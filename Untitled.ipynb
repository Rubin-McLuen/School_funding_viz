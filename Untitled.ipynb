{
 "cells": [
  {
   "cell_type": "code",
   "execution_count": 7,
   "id": "efb4a6e4-dc42-4364-bd13-9465bcaf64f0",
   "metadata": {},
   "outputs": [
    {
     "ename": "SyntaxError",
     "evalue": "cannot assign to operator (2676064755.py, line 3)",
     "output_type": "error",
     "traceback": [
      "\u001b[0;36m  File \u001b[0;32m\"/var/folders/w2/kkhrrqfd1wd45fnnwbq186_00000gn/T/ipykernel_16057/2676064755.py\"\u001b[0;36m, line \u001b[0;32m3\u001b[0m\n\u001b[0;31m    --NotebookApp.iopub_data_rate_limit=1.0e10\u001b[0m\n\u001b[0m    ^\u001b[0m\n\u001b[0;31mSyntaxError\u001b[0m\u001b[0;31m:\u001b[0m cannot assign to operator\n"
     ]
    }
   ],
   "source": [
    "import csv\n",
    "import re\n",
    "--NotebookApp.iopub_data_rate_limit=1.0e10\n",
    "\n",
    "in_file = open(\"district_data_23_Billion.csv\", 'r')\n",
    "out_file = open(\"my_data.csv\", 'w')\n",
    "writer = csv.writer(out_file)\n",
    "\n",
    "data = list(csv.reader(in_file))\n",
    "print(data)"
   ]
  },
  {
   "cell_type": "code",
   "execution_count": null,
   "id": "5bdfa8f9-a6cf-4d94-8df3-a1d871acd577",
   "metadata": {},
   "outputs": [],
   "source": []
  }
 ],
 "metadata": {
  "kernelspec": {
   "display_name": "Python 3 (ipykernel)",
   "language": "python",
   "name": "python3"
  },
  "language_info": {
   "codemirror_mode": {
    "name": "ipython",
    "version": 3
   },
   "file_extension": ".py",
   "mimetype": "text/x-python",
   "name": "python",
   "nbconvert_exporter": "python",
   "pygments_lexer": "ipython3",
   "version": "3.9.7"
  }
 },
 "nbformat": 4,
 "nbformat_minor": 5
}
