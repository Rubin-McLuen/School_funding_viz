{
 "cells": [
  {
   "cell_type": "code",
   "execution_count": 14,
   "id": "efb4a6e4-dc42-4364-bd13-9465bcaf64f0",
   "metadata": {},
   "outputs": [
    {
     "name": "stdout",
     "output_type": "stream",
     "text": [
      "{'Alabama': '8448', 'Alaska': '18289', 'Arizona': '7003', 'Arkansas': '9784', 'California': '7557', 'Colorado': '9121', 'Connecticut': '15635', 'Delaware': '11118', 'District of Columbia': '16636', 'Florida': '8172', 'Georgia': '10870', 'Hawaii': '7597', 'Idaho': '8896', 'Illinois': '11820', 'Indiana': '15680', 'Iowa': '12147', 'Kansas': '9407', 'Kentucky': '10227', 'Louisiana': '8444', 'Maine': '1636', 'Maryland': '12079', 'Massachusetts': '11408', 'Michigan': '11191', 'Minnesota': '12645', 'Mississippi': '10682', 'Missouri': '12152', 'Montana': '11164', 'Nebraska': '13812', 'Nevada': '9242', 'New Hampshire': '13193', 'New Jersey': '14413', 'New Mexico': '8210', 'New York': '22921', 'North Carolina': '7235', 'North Dakota': '26984', 'Ohio': '13822', 'Oklahoma': '9477', 'Oregon': '22715', 'Pennsylvania': '12766', 'Rhode Island': '11210', 'South Carolina': '10257', 'South Dakota': '8613', 'Tennessee': '8499', 'Texas': '11705', 'Utah': '7468', 'Vermont': '17031', 'Virginia': '9739', 'Washington': '11592', 'West Virginia': '9339', 'Wisconsin': '12846', 'Wyoming': '15368'} \n",
      "\n",
      "{'Alabama': '8448', 'Alaska': '18289', 'Arizona': '7003', 'Arkansas': '9784', 'California': '7557', 'Colorado': '9121', 'Connecticut': '15635', 'Delaware': '11118', 'District of Columbia': '16636', 'Florida': '8172', 'Georgia': '10870', 'Hawaii': '7597', 'Idaho': '8896', 'Illinois': '11820', 'Indiana': '15680', 'Iowa': '12147', 'Kansas': '9407', 'Kentucky': '10227', 'Louisiana': '8444', 'Maine': '1636', 'Maryland': '12079', 'Massachusetts': '11408', 'Michigan': '11191', 'Minnesota': '12645', 'Mississippi': '10682', 'Missouri': '12152', 'Montana': '11164', 'Nebraska': '13812', 'Nevada': '9242', 'New Hampshire': '13193', 'New Jersey': '14413', 'New Mexico': '8210', 'New York': '22921', 'North Carolina': '7235', 'North Dakota': '26984', 'Ohio': '13822', 'Oklahoma': '9477', 'Oregon': '22715', 'Pennsylvania': '12766', 'Rhode Island': '11210', 'South Carolina': '10257', 'South Dakota': '8613', 'Tennessee': '8499', 'Texas': '11705', 'Utah': '7468', 'Vermont': '17031', 'Virginia': '9739', 'Washington': '11592', 'West Virginia': '9339', 'Wisconsin': '12846', 'Wyoming': '15368'}\n"
     ]
    }
   ],
   "source": [
    "import csv\n",
    "import re\n",
    "\n",
    "in_file = open(\"district_data_23_Billion.csv\", 'r')\n",
    "out_file = open(\"my_data.csv\", 'w')\n",
    "writer = csv.writer(out_file)\n",
    "data = list(csv.reader(in_file))\n",
    "\n",
    "state_revenue_list = []\n",
    "final = {}\n",
    "lower = {}\n",
    "higher = {}\n",
    "\n",
    "for i in data[2:]:\n",
    "    state = i[0]\n",
    "    revenue = i[13]\n",
    "    revenue = re.sub(\"[^0-9]\", \"\", revenue)\n",
    "    state_revenue_list.append((state,revenue))\n",
    "    \n",
    "for i in state_revenue_list:\n",
    "    if i[0] not in lower:\n",
    "        lower[i[0]] = i[1]\n",
    "    if i[0] not in higher:\n",
    "        higher[i[0]] = i[1]\n",
    "    \n",
    "print(lower, \"\\n\")\n",
    "print(higher)"
   ]
  },
  {
   "cell_type": "code",
   "execution_count": null,
   "id": "5bdfa8f9-a6cf-4d94-8df3-a1d871acd577",
   "metadata": {},
   "outputs": [],
   "source": []
  }
 ],
 "metadata": {
  "kernelspec": {
   "display_name": "Python 3 (ipykernel)",
   "language": "python",
   "name": "python3"
  },
  "language_info": {
   "codemirror_mode": {
    "name": "ipython",
    "version": 3
   },
   "file_extension": ".py",
   "mimetype": "text/x-python",
   "name": "python",
   "nbconvert_exporter": "python",
   "pygments_lexer": "ipython3",
   "version": "3.9.7"
  }
 },
 "nbformat": 4,
 "nbformat_minor": 5
}
