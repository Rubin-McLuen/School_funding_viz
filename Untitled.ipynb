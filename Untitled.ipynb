{
 "cells": [
  {
   "cell_type": "code",
   "execution_count": 17,
   "id": "efb4a6e4-dc42-4364-bd13-9465bcaf64f0",
   "metadata": {},
   "outputs": [
    {
     "name": "stdout",
     "output_type": "stream",
     "text": [
      "{'Alabama': 16636, 'Alaska': 34096, 'Arizona': 71076, 'Arkansas': 23141, 'California': 49573, 'Colorado': 32930, 'Connecticut': 31486, 'Delaware': 20304, 'District of Columbia': '16636', 'Florida': 12472, 'Georgia': 22666, 'Hawaii': '7597', 'Idaho': 79986, 'Illinois': 43044, 'Indiana': 23811, 'Iowa': 19918, 'Kansas': 22747, 'Kentucky': 20090, 'Louisiana': 27003, 'Maine': 42319, 'Maryland': 15914, 'Massachusetts': 41069, 'Michigan': 87587, 'Minnesota': 20710, 'Mississippi': 15242, 'Missouri': 27721, 'Montana': 77945, 'Nebraska': 33642, 'Nevada': 36875, 'New Hampshire': 30852, 'New Jersey': 49861, 'New Mexico': 49460, 'New York': 71752, 'North Carolina': 16197, 'North Dakota': 51172, 'Ohio': 40792, 'Oklahoma': 36746, 'Oregon': 72004, 'Pennsylvania': 35580, 'Rhode Island': 34961, 'South Carolina': 16413, 'South Dakota': 30125, 'Tennessee': 14506, 'Texas': 48597, 'Utah': 17738, 'Vermont': 28154, 'Virginia': 18094, 'Washington': 47150, 'West Virginia': 18801, 'Wisconsin': 30355, 'Wyoming': 39908}\n"
     ]
    }
   ],
   "source": [
    "import csv\n",
    "import re\n",
    "\n",
    "in_file = open(\"district_data_23_Billion.csv\", 'r')\n",
    "out_file = open(\"my_data.csv\", 'w')\n",
    "writer = csv.writer(out_file)\n",
    "data = list(csv.reader(in_file))\n",
    "\n",
    "state_revenue_list = []\n",
    "final = {}\n",
    "lower = {}\n",
    "higher = {}\n",
    "\n",
    "for i in data[2:]:\n",
    "    state = i[0]\n",
    "    revenue = i[13]\n",
    "    revenue = re.sub(\"[^0-9]\", \"\", revenue)\n",
    "    state_revenue_list.append((state,revenue))\n",
    "    \n",
    "for i in state_revenue_list:\n",
    "    if i[0] not in lower:\n",
    "        lower[i[0]] = i[1]\n",
    "    if i[0] not in higher:\n",
    "        higher[i[0]] = i[1]\n",
    "    \n",
    "for i in state_revenue_list:\n",
    "    if int(i[1]) > int(higher[i[0]]):\n",
    "        higher[i[0]] = int(i[1])\n",
    "    if int(i[1]) < int(lower[i[0]]):\n",
    "        lower[i[0]] = int(i[1])\n",
    "\n",
    "print(higher)"
   ]
  },
  {
   "cell_type": "code",
   "execution_count": null,
   "id": "5bdfa8f9-a6cf-4d94-8df3-a1d871acd577",
   "metadata": {},
   "outputs": [],
   "source": []
  }
 ],
 "metadata": {
  "kernelspec": {
   "display_name": "Python 3 (ipykernel)",
   "language": "python",
   "name": "python3"
  },
  "language_info": {
   "codemirror_mode": {
    "name": "ipython",
    "version": 3
   },
   "file_extension": ".py",
   "mimetype": "text/x-python",
   "name": "python",
   "nbconvert_exporter": "python",
   "pygments_lexer": "ipython3",
   "version": "3.9.7"
  }
 },
 "nbformat": 4,
 "nbformat_minor": 5
}
