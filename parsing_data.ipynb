{
 "cells": [
  {
   "cell_type": "code",
   "execution_count": 36,
   "id": "efb4a6e4-dc42-4364-bd13-9465bcaf64f0",
   "metadata": {},
   "outputs": [],
   "source": [
    "import csv\n",
    "import re\n",
    "import pandas as pd\n",
    "\n",
    "# Reading in data\n",
    "in_file = open(\"data/district_data_23_Billion.csv\", 'r')\n",
    "out_file = open(\"data/gap_in_spending_per_student.csv\", 'w')\n",
    "writer = csv.writer(out_file)\n",
    "data = list(csv.reader(in_file))\n",
    "\n",
    "# Initializing lists/dictionaries\n",
    "state_revenue_list = []\n",
    "final = {}\n",
    "lower = {}\n",
    "higher = {}\n",
    "\n",
    "# Getting state and student revenue columns\n",
    "for i in data[2:]:\n",
    "    state = i[0]\n",
    "    revenue = i[13]\n",
    "    revenue = re.sub(\"[^0-9]\", \"\", revenue)\n",
    "    state_revenue_list.append((state,revenue))\n",
    "\n",
    "# Initializing lower and higher lists\n",
    "for i in state_revenue_list:\n",
    "    if i[0] not in lower:\n",
    "        lower[i[0]] = i[1]\n",
    "    if i[0] not in higher:\n",
    "        higher[i[0]] = i[1]\n",
    "    \n",
    "# Finding highest and lowest student revenue in each state\n",
    "for i in state_revenue_list:\n",
    "    if int(i[1]) > int(higher[i[0]]):\n",
    "        higher[i[0]] = int(i[1])\n",
    "    if int(i[1]) < int(lower[i[0]]):\n",
    "        lower[i[0]] = int(i[1])\n",
    "\n",
    "# Finding difference\n",
    "for i in lower:\n",
    "    final[i] = int(higher.get(i)) - int(lower.get(i))\n",
    "\n",
    "# Writing to new file\n",
    "final.pop(\"District of Columbia\")\n",
    "writer.writerow([\"state\", \"gap_in_spending_per_student\"])\n",
    "for key, value in final.items():\n",
    "    writer.writerow([key, value])\n",
    "\n",
    "# Adding state codes to CSV\n",
    "df = pd.read_csv(\"data/gap_in_spending_per_student.csv\")\n",
    "state_code = pd.Series([\"AL\",\"AK\",\"AZ\",\"AR\",\"CA\",\"CO\",\"CT\",\"DE\",\"FL\",\"GA\",\"HI\",\"ID\",\"IL\",\"IN\",\"IA\",\"KS\",\"KY\",\"LA\",\"ME\",\"MD\",\"MA\",\"MI\",\"MN\",\"MS\",\"MO\",\"MT\",\"NE\",\"NV\",\"NH\",\"NJ\",\"NM\",\"NY\",\"NC\",\"ND\",\"OH\",\"OK\",\"OR\",\"PA\",\"RI\",\"SC\",\"SD\",\"TN\",\"TX\",\"UT\",\"VT\",\"VA\",\"WA\",\"WV\",\"WI\",\"WY\"])\n",
    "df.insert(0,\"code\",state_code)\n",
    "df.to_csv(\"data/gap_in_spending_per_student.csv\", index=False)"
   ]
  },
  {
   "cell_type": "code",
   "execution_count": 37,
   "id": "5bdfa8f9-a6cf-4d94-8df3-a1d871acd577",
   "metadata": {},
   "outputs": [
    {
     "name": "stdout",
     "output_type": "stream",
     "text": [
      "50\n"
     ]
    }
   ],
   "source": [
    "print(len(final))"
   ]
  },
  {
   "cell_type": "code",
   "execution_count": null,
   "id": "d03eb79d-978b-40e8-9ba5-1fb174b07e4d",
   "metadata": {},
   "outputs": [],
   "source": []
  }
 ],
 "metadata": {
  "kernelspec": {
   "display_name": "Python 3 (ipykernel)",
   "language": "python",
   "name": "python3"
  },
  "language_info": {
   "codemirror_mode": {
    "name": "ipython",
    "version": 3
   },
   "file_extension": ".py",
   "mimetype": "text/x-python",
   "name": "python",
   "nbconvert_exporter": "python",
   "pygments_lexer": "ipython3",
   "version": "3.9.7"
  }
 },
 "nbformat": 4,
 "nbformat_minor": 5
}
