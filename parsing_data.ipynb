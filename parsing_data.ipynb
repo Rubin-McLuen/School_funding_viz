{
 "cells": [
  {
   "cell_type": "code",
   "execution_count": 227,
   "id": "5bdfa8f9-a6cf-4d94-8df3-a1d871acd577",
   "metadata": {},
   "outputs": [],
   "source": [
    "import re\n",
    "import pandas as pd\n",
    "\n",
    "# Reading in data\n",
    "in_file = open(\"data/district_data_23_Billion.csv\", 'r')\n",
    "county_file = open(\"data/EDGE_GEOCODE_PUBLICLEA_1920.csv\", 'r')\n",
    "\n",
    "school_dataframe = pd.read_csv(in_file)\n",
    "county_dataframe = pd.read_csv(county_file, dtype={'CNTY':str})\n",
    "\n",
    "# Renaming district code column to match\n",
    "county_dataframe.rename(columns={'LEAID':'NCESID'}, inplace = True)\n",
    "\n",
    "# Merging dataframes based onmatching district code\n",
    "merged_dataframes = pd.merge(left = school_dataframe, right = county_dataframe, how = 'inner', on = 'NCESID')\n",
    "\n",
    "# Taking columns needed from merged dataframe\n",
    "data = merged_dataframes[['CNTY','NMCNTY','STATE','State and local revenue, per pupil, cost adjusted', 'Enrollment',\n",
    "                          'Percent White', 'Student poverty rate', 'Median household income', 'Median property value']].copy()\n",
    "\n",
    "# Removing unnecessary characters with regular expressions($,%)\n",
    "data['State and local revenue, per pupil, cost adjusted'] = data['State and local revenue, per pupil, cost adjusted'].replace(\"[$,]\", \"\", regex=True).astype(float)\n",
    "data['Median household income'] = data['Median household income'].replace(\"[$,]\", \"\", regex=True).astype(float)\n",
    "data['Median property value'] = data['Median property value'].replace(\"[$,]\", \"\", regex=True).astype(float)\n",
    "data['Percent White'] = data['Percent White'].replace(\"[%]\", \"\", regex=True).astype(int)\n",
    "data['Enrollment'] = data['Enrollment'].replace(\"[,]\", \"\", regex=True).astype(int)\n",
    "data['Student poverty rate'] = data['Student poverty rate'].dropna().replace(\"[%]\", \"\", regex=True).astype(int)\n",
    "\n",
    "# Combining multiple districts into one county and calculating mean/sum of combined data\n",
    "data.groupby('CNTY').agg({'State and local revenue, per pupil, cost adjusted':'mean', 'Percent White':'mean',\n",
    "                          'Student poverty rate':'mean', 'Median household income':'mean', 'Median property value':'mean', 'Enrollment':'sum'})\n",
    "\n",
    "# Fixing county codes\n",
    "data.CNTY.str.zfill(5)\n",
    "\n",
    "# Writing to output file\n",
    "data.to_csv('data/county_data.csv', index=False)"
   ]
  },
  {
   "cell_type": "code",
   "execution_count": null,
   "id": "139a6ed4-b2de-4f9a-b0d9-6a91ea492804",
   "metadata": {},
   "outputs": [],
   "source": []
  }
 ],
 "metadata": {
  "kernelspec": {
   "display_name": "Python 3 (ipykernel)",
   "language": "python",
   "name": "python3"
  },
  "language_info": {
   "codemirror_mode": {
    "name": "ipython",
    "version": 3
   },
   "file_extension": ".py",
   "mimetype": "text/x-python",
   "name": "python",
   "nbconvert_exporter": "python",
   "pygments_lexer": "ipython3",
   "version": "3.9.7"
  }
 },
 "nbformat": 4,
 "nbformat_minor": 5
}
